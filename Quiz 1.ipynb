{
 "cells": [
  {
   "cell_type": "markdown",
   "metadata": {
    "heading_collapsed": true
   },
   "source": [
    "## Task 1\n",
    "Write a Java program to print the following grid\n",
    "\n",
    "Expected Output :\n"
   ]
  },
  {
   "cell_type": "raw",
   "metadata": {
    "hidden": true
   },
   "source": [
    "- - - - - - - - - -                                                                                           \n",
    "- - - - - - - - - -                                                                                           \n",
    "- - - - - - - - - -                                                                                           \n",
    "- - - - - - - - - -                                                                                           \n",
    "- - - - - - - - - -                                                                                           \n",
    "- - - - - - - - - -                                                                                           \n",
    "- - - - - - - - - -                                                                                           \n",
    "- - - - - - - - - -                                                                                           \n",
    "- - - - - - - - - -                                                                                           \n",
    "- - - - - - - - - -  "
   ]
  },
  {
   "cell_type": "markdown",
   "metadata": {
    "heading_collapsed": true
   },
   "source": [
    "## Task 2\n",
    "Write a Java program to reverse an array of integer values\n"
   ]
  },
  {
   "cell_type": "markdown",
   "metadata": {
    "heading_collapsed": true
   },
   "source": [
    "## Task 3\n",
    "Write a Java program to find the length of the longest consecutive elements sequence from a given unsorted array of integers.\n",
    "\n",
    "Sample array: [49, 1, 3, 200, 2, 4, 70, 5] \n",
    "\n",
    "The longest consecutive elements sequence is [1, 2, 3, 4, 5], therefore the program will return its length "
   ]
  },
  {
   "cell_type": "markdown",
   "metadata": {
    "heading_collapsed": true
   },
   "source": [
    "## Task 4\n",
    "Find Maximum and Minimum\n",
    "Write a method that returns the largest integer in the list.\n",
    "You can assume that the list has at least 2 element."
   ]
  },
  {
   "cell_type": "markdown",
   "metadata": {
    "heading_collapsed": true
   },
   "source": [
    "## Task 5\n",
    " Write a Java program to separate even and odd numbers of an given array of integers. Put all even numbers first, and then odd numbers.   Go to the editor"
   ]
  },
  {
   "cell_type": "markdown",
   "metadata": {},
   "source": [
    "## Task 6\n",
    "For a given 3 digit number, find whether it is armstrong number or not. An Armstrong number of three digits is an integer such that the sum of the cubes of its digits is equal to the number itself. For example, 371 is an Armstrong number since 3^3 + 7^3 + 1^3 = 371\n",
    "\n",
    "Input:\n",
    "First line contains an integer, the number of test cases 'T'. T testcases follow. Each test case contains a positive integer N.\n",
    "\n",
    "Output:\n",
    "For each testcase, in a new line, print \"Yes\" if it is a armstrong number else print \"No\".\n",
    "\n",
    "Constraints:\n",
    "1 <= T <= 31\n",
    "100 <= N < 1000\n",
    "\n",
    "Example:\n",
    "Input:\n",
    "1\n",
    "371\n",
    "Output:\n",
    "Yes\n"
   ]
  },
  {
   "cell_type": "markdown",
   "metadata": {},
   "source": [
    "## Task 7\n",
    "Find average value in a array."
   ]
  },
  {
   "cell_type": "markdown",
   "metadata": {},
   "source": [
    "## Task 8\n",
    "Given an array print true if array is sorted and false if not"
   ]
  }
 ],
 "metadata": {
  "kernelspec": {
   "display_name": "Scala",
   "language": "scala",
   "name": "scala"
  },
  "language_info": {
   "codemirror_mode": "text/x-scala",
   "file_extension": ".scala",
   "mimetype": "text/x-scala",
   "name": "scala",
   "nbconvert_exporter": "script",
   "version": "2.12.9"
  }
 },
 "nbformat": 4,
 "nbformat_minor": 2
}
