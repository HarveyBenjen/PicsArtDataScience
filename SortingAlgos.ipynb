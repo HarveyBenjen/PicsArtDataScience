{
 "cells": [
  {
   "cell_type": "code",
   "execution_count": 12,
   "metadata": {},
   "outputs": [
    {
     "data": {
      "text/plain": [
       "\u001b[32mimport \u001b[39m\u001b[36mscala.util.control.Breaks._\n",
       "\n",
       "\u001b[39m\n",
       "defined \u001b[32mfunction\u001b[39m \u001b[36mswap\u001b[39m\n",
       "defined \u001b[32mfunction\u001b[39m \u001b[36mbubbleSort\u001b[39m\n",
       "\u001b[36ma\u001b[39m: \u001b[32mArray\u001b[39m[\u001b[32mInt\u001b[39m] = \u001b[33mArray\u001b[39m(\u001b[32m3\u001b[39m, \u001b[32m4\u001b[39m, \u001b[32m6\u001b[39m, \u001b[32m8\u001b[39m, \u001b[32m9\u001b[39m, \u001b[32m10\u001b[39m, \u001b[32m11\u001b[39m, \u001b[32m13\u001b[39m, \u001b[32m15\u001b[39m)"
      ]
     },
     "execution_count": 12,
     "metadata": {},
     "output_type": "execute_result"
    }
   ],
   "source": [
    "import scala.util.control.Breaks._\n",
    "\n",
    "def swap(a: Array[Int], i1: Int, i2: Int) = { \n",
    "    val tmp = a(i1) \n",
    "    a(i1) = a(i2)\n",
    "    a(i2) = tmp \n",
    "}\n",
    "\n",
    "\n",
    "def bubbleSort(arr: Array[Int]) = {\n",
    "    var i = 0; var j = 0; var swapBool = false\n",
    "    for(i <- 1 to arr.length-1){\n",
    "        breakable {\n",
    "            for(j <- (i-1) to 0 by -1) {\n",
    "                if(arr(j) > arr(j+1)) {\n",
    "                    swap(arr, j, j+1)\n",
    "                    swapBool = true\n",
    "                }\n",
    "            }\n",
    "            if (swapBool == false) break\n",
    "        }\n",
    "    }\n",
    "}\n",
    "\n",
    "val a = Array(10,4,3,8,6,9,11,15,13)\n",
    "bubbleSort(a)"
   ]
  },
  {
   "cell_type": "code",
   "execution_count": 7,
   "metadata": {},
   "outputs": [
    {
     "data": {
      "text/plain": [
       "defined \u001b[32mfunction\u001b[39m \u001b[36mswap\u001b[39m\n",
       "defined \u001b[32mfunction\u001b[39m \u001b[36mselectionSort\u001b[39m\n",
       "\u001b[36mb\u001b[39m: \u001b[32mArray\u001b[39m[\u001b[32mInt\u001b[39m] = \u001b[33mArray\u001b[39m(\u001b[32m3\u001b[39m, \u001b[32m4\u001b[39m, \u001b[32m6\u001b[39m, \u001b[32m8\u001b[39m, \u001b[32m9\u001b[39m, \u001b[32m10\u001b[39m, \u001b[32m11\u001b[39m, \u001b[32m13\u001b[39m, \u001b[32m15\u001b[39m)"
      ]
     },
     "execution_count": 7,
     "metadata": {},
     "output_type": "execute_result"
    }
   ],
   "source": [
    "def swap(a: Array[Int], i1: Int, i2: Int) = { \n",
    "    val tmp = a(i1) \n",
    "    a(i1) = a(i2)\n",
    "    a(i2) = tmp \n",
    "}\n",
    "\n",
    "def selectionSort(arr: Array[Int]) = {\n",
    "    for(i <- 0 to arr.length-2) {\n",
    "        var min = i\n",
    "        for(j <- i+1 to arr.length-1) {\n",
    "            if(arr(j) < arr(min)) {\n",
    "                min = j\n",
    "            }\n",
    "        }\n",
    "        swap(arr, i, min)\n",
    "    }\n",
    "}\n",
    "\n",
    "val b = Array(10,4,3,8,6,9,11,15,13)\n",
    "selectionSort(b)\n"
   ]
  },
  {
   "cell_type": "code",
   "execution_count": 10,
   "metadata": {},
   "outputs": [
    {
     "data": {
      "text/plain": [
       "defined \u001b[32mfunction\u001b[39m \u001b[36mswap\u001b[39m\n",
       "defined \u001b[32mfunction\u001b[39m \u001b[36minsertionSort\u001b[39m\n",
       "\u001b[36mc\u001b[39m: \u001b[32mArray\u001b[39m[\u001b[32mInt\u001b[39m] = \u001b[33mArray\u001b[39m(\u001b[32m3\u001b[39m, \u001b[32m4\u001b[39m, \u001b[32m6\u001b[39m, \u001b[32m8\u001b[39m, \u001b[32m9\u001b[39m, \u001b[32m10\u001b[39m, \u001b[32m11\u001b[39m, \u001b[32m13\u001b[39m, \u001b[32m15\u001b[39m)"
      ]
     },
     "execution_count": 10,
     "metadata": {},
     "output_type": "execute_result"
    }
   ],
   "source": [
    "def swap(a: Array[Int], i1: Int, i2: Int) = { \n",
    "    val tmp = a(i1) \n",
    "    a(i1) = a(i2)\n",
    "    a(i2) = tmp \n",
    "}\n",
    "\n",
    "def insertionSort(arr: Array[Int]) = {\n",
    "    var j = 0\n",
    "    for (i <- 1 to arr.length-1){\n",
    "        j=i\n",
    "        while(j > 0 && arr(j) < arr(j-1)){\n",
    "            swap(arr, j, j-1)\n",
    "            j -= 1\n",
    "        }\n",
    "    }\n",
    "}\n",
    "\n",
    "val c = Array(10,4,3,8,6,9,11,15,13)\n",
    "insertionSort(c)\n"
   ]
  },
  {
   "cell_type": "code",
   "execution_count": 15,
   "metadata": {},
   "outputs": [
    {
     "data": {
      "text/plain": [
       "defined \u001b[32mfunction\u001b[39m \u001b[36mmerge\u001b[39m\n",
       "defined \u001b[32mfunction\u001b[39m \u001b[36mmergeSort\u001b[39m\n",
       "\u001b[36md\u001b[39m: \u001b[32mArray\u001b[39m[\u001b[32mInt\u001b[39m] = \u001b[33mArray\u001b[39m(\u001b[32m3\u001b[39m, \u001b[32m4\u001b[39m, \u001b[32m6\u001b[39m, \u001b[32m8\u001b[39m, \u001b[32m9\u001b[39m, \u001b[32m10\u001b[39m, \u001b[32m11\u001b[39m, \u001b[32m13\u001b[39m, \u001b[32m15\u001b[39m)\n",
       "\u001b[36mres14_3\u001b[39m: \u001b[32mArray\u001b[39m[\u001b[32mInt\u001b[39m] = \u001b[33mArray\u001b[39m(\u001b[32m3\u001b[39m, \u001b[32m4\u001b[39m, \u001b[32m6\u001b[39m, \u001b[32m8\u001b[39m, \u001b[32m9\u001b[39m, \u001b[32m10\u001b[39m, \u001b[32m11\u001b[39m, \u001b[32m13\u001b[39m, \u001b[32m15\u001b[39m)"
      ]
     },
     "execution_count": 15,
     "metadata": {},
     "output_type": "execute_result"
    }
   ],
   "source": [
    "def merge(arr: Array[Int], l: Array[Int], r: Array[Int]): Array[Int] = {\n",
    "    var i = 0; var j = 0\n",
    "    while (i+j < arr.length) {   \n",
    "        if(j==r.length || i<l.length && l(i) < r(j)) { \n",
    "            arr(i+j) = l(i)\n",
    "            i=i+1; \n",
    "        } \n",
    "        else{ \n",
    "            arr(i+j) = r(j)\n",
    "            j = j+1; \n",
    "        } \n",
    "    }\n",
    "    return arr\n",
    "}\n",
    "\n",
    "def mergeSort(arr: Array[Int]): Array[Int] = {\n",
    "    if (arr.length == 1) return arr\n",
    "    var left = arr.slice(0, arr.length/2)\n",
    "    var right = arr.slice(arr.length/2, arr.length)\n",
    "    left = mergeSort(left)\n",
    "    right = mergeSort(right)\n",
    "    return merge(arr, left, right) \n",
    "}\n",
    "\n",
    "val d = Array(10,4,3,8,6,9,11,15,13)\n",
    "mergeSort(d)"
   ]
  },
  {
   "cell_type": "code",
   "execution_count": null,
   "metadata": {},
   "outputs": [],
   "source": [
    "\n",
    "def quickSort(arr: Array[Int]) = {\n",
    "    \n",
    "}\n",
    "\n",
    "val e = Array(10,4,3,8,6,9,11,15,13)\n",
    "quickSort(e)"
   ]
  }
 ],
 "metadata": {
  "kernelspec": {
   "display_name": "Scala",
   "language": "scala",
   "name": "scala"
  },
  "language_info": {
   "codemirror_mode": "text/x-scala",
   "file_extension": ".scala",
   "mimetype": "text/x-scala",
   "name": "scala",
   "nbconvert_exporter": "script",
   "version": "2.12.9"
  }
 },
 "nbformat": 4,
 "nbformat_minor": 4
}
