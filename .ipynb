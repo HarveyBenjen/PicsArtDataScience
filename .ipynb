{
 "cells": [
  {
   "cell_type": "code",
   "execution_count": 15,
   "metadata": {},
   "outputs": [
    {
     "data": {
      "text/plain": [
       "defined \u001b[32mfunction\u001b[39m \u001b[36mswap\u001b[39m\n",
       "defined \u001b[32mfunction\u001b[39m \u001b[36mbubbleSort\u001b[39m\n",
       "defined \u001b[32mfunction\u001b[39m \u001b[36mselectionSort\u001b[39m\n",
       "defined \u001b[32mfunction\u001b[39m \u001b[36minsertionSort\u001b[39m\n",
       "defined \u001b[32mfunction\u001b[39m \u001b[36mmergeSort\u001b[39m\n",
       "defined \u001b[32mfunction\u001b[39m \u001b[36mquickSort\u001b[39m\n",
       "\u001b[36ma\u001b[39m: \u001b[32mArray\u001b[39m[\u001b[32mInt\u001b[39m] = \u001b[33mArray\u001b[39m(\u001b[32m3\u001b[39m, \u001b[32m4\u001b[39m, \u001b[32m6\u001b[39m, \u001b[32m8\u001b[39m, \u001b[32m9\u001b[39m, \u001b[32m10\u001b[39m, \u001b[32m11\u001b[39m, \u001b[32m13\u001b[39m, \u001b[32m15\u001b[39m)\n",
       "\u001b[36mb\u001b[39m: \u001b[32mArray\u001b[39m[\u001b[32mInt\u001b[39m] = \u001b[33mArray\u001b[39m(\u001b[32m3\u001b[39m, \u001b[32m4\u001b[39m, \u001b[32m6\u001b[39m, \u001b[32m8\u001b[39m, \u001b[32m9\u001b[39m, \u001b[32m10\u001b[39m, \u001b[32m11\u001b[39m, \u001b[32m13\u001b[39m, \u001b[32m15\u001b[39m)\n",
       "\u001b[36mc\u001b[39m: \u001b[32mArray\u001b[39m[\u001b[32mInt\u001b[39m] = \u001b[33mArray\u001b[39m(\u001b[32m3\u001b[39m, \u001b[32m4\u001b[39m, \u001b[32m6\u001b[39m, \u001b[32m8\u001b[39m, \u001b[32m9\u001b[39m, \u001b[32m10\u001b[39m, \u001b[32m11\u001b[39m, \u001b[32m13\u001b[39m, \u001b[32m15\u001b[39m)\n",
       "\u001b[36md\u001b[39m: \u001b[32mArray\u001b[39m[\u001b[32mInt\u001b[39m] = \u001b[33mArray\u001b[39m(\u001b[32m10\u001b[39m, \u001b[32m4\u001b[39m, \u001b[32m3\u001b[39m, \u001b[32m8\u001b[39m, \u001b[32m6\u001b[39m, \u001b[32m9\u001b[39m, \u001b[32m11\u001b[39m, \u001b[32m15\u001b[39m, \u001b[32m13\u001b[39m)"
      ]
     },
     "execution_count": 15,
     "metadata": {},
     "output_type": "execute_result"
    }
   ],
   "source": [
    "def swap(a: Array[Int], i1: Int, i2: Int) = { \n",
    "    val tmp = a(i1) \n",
    "    a(i1) = a(i2)\n",
    "    a(i2) = tmp \n",
    "}\n",
    "\n",
    "\n",
    "def bubbleSort(arr: Array[Int]) = {\n",
    "    var i = 0; var j = 0\n",
    "    for(i <- 1 to arr.length-1){\n",
    "        for(j <- (i-1) to 0 by -1){\n",
    "            if(arr(j) > arr(j+1)){\n",
    "              swap(arr, j, j+1)\n",
    "            }\n",
    "        }\n",
    "    }\n",
    "}\n",
    "\n",
    "\n",
    "def selectionSort(arr: Array[Int]) = {\n",
    "    var i = 0\n",
    "    while(i < (arr.length - 1)) {\n",
    "        var min = i; var j = i + 1\n",
    "        while (j < arr.length) {\n",
    "            if(arr(j) < arr(min)) {\n",
    "                min = j\n",
    "            }\n",
    "            j += 1\n",
    "        }\n",
    "        swap(arr, i, min)\n",
    "        i += 1\n",
    "    }\n",
    "}\n",
    "\n",
    "\n",
    "def insertionSort(arr: Array[Int]) = {\n",
    "    var i = 0; var j = 0\n",
    "    for (i <- 1 to arr.length-1){\n",
    "        j=i\n",
    "        while(j > 0 && arr(j-1) > arr(j)){\n",
    "            swap(arr, j, j-1)\n",
    "            j -= 1\n",
    "        }\n",
    "    }\n",
    "}\n",
    "\n",
    "\n",
    "def mergeSort(arr: Array[Int]) = {\n",
    "    \n",
    "}\n",
    "\n",
    "\n",
    "def quickSort(arr: Array[Int]) = {\n",
    "    \n",
    "}\n",
    "\n",
    "val a = Array(10,4,3,8,6,9,11,15,13)\n",
    "val b = Array(10,4,3,8,6,9,11,15,13)\n",
    "val c = Array(10,4,3,8,6,9,11,15,13)\n",
    "val d = Array(10,4,3,8,6,9,11,15,13)\n",
    "\n",
    "bubbleSort(a)\n",
    "\n",
    "selectionSort(b)\n",
    "\n",
    "insertionSort(c)\n",
    "\n",
    "\n",
    "\n"
   ]
  },
  {
   "cell_type": "code",
   "execution_count": null,
   "metadata": {},
   "outputs": [],
   "source": []
  }
 ],
 "metadata": {
  "kernelspec": {
   "display_name": "Scala",
   "language": "scala",
   "name": "scala"
  },
  "language_info": {
   "codemirror_mode": "text/x-scala",
   "file_extension": ".scala",
   "mimetype": "text/x-scala",
   "name": "scala",
   "nbconvert_exporter": "script",
   "version": "2.12.9"
  }
 },
 "nbformat": 4,
 "nbformat_minor": 2
}
