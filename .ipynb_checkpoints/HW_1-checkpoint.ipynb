{
 "cells": [
  {
   "cell_type": "code",
   "execution_count": 65,
   "metadata": {
    "scrolled": true
   },
   "outputs": [
    {
     "name": "stdout",
     "output_type": "stream",
     "text": [
      "Welcome to your shopping basket! You can add up to five items\n",
      "\n",
      "Add an item to your basket or type 'done' to exit: apples\n",
      "Add an item to your basket or type 'done' to exit: peaches\n",
      "Add an item to your basket or type 'done' to exit: bananas\n",
      "Add an item to your basket or type 'done' to exit: tomatoes\n",
      "Add an item to your basket or type 'done' to exit: bread\n",
      "Add an item to your basket or type 'done' to exit: lemons\n",
      "Basket is full\n",
      "\n",
      "Here are the items in your basket:\n",
      "apples, peaches, bananas, tomatoes, bread"
     ]
    },
    {
     "data": {
      "text/plain": [
       "\u001b[32mimport \u001b[39m\u001b[36mscala.io.StdIn\n",
       "\n",
       "\u001b[39m\n",
       "defined \u001b[32mfunction\u001b[39m \u001b[36mshoppingBasket\u001b[39m"
      ]
     },
     "execution_count": 65,
     "metadata": {},
     "output_type": "execute_result"
    }
   ],
   "source": [
    "/*\n",
    "    Homework #1\n",
    "    Harvey Bejanyan\n",
    "*/\n",
    "\n",
    "// Problem 1\n",
    "\n",
    "import scala.io.StdIn\n",
    "\n",
    "def shoppingBasket() {\n",
    "    var basket: Array[String] = Array.fill(5)(\"empty\")\n",
    "    var index = 0\n",
    "    var item = \"\"\n",
    "    println(\"Welcome to your shopping basket! You can add up to five items\\n\")\n",
    "    try {\n",
    "        while (item != \"done\") {\n",
    "            item = readLine(\"Add an item to your basket or type 'done' to exit: \")\n",
    "            if ( item != \"done\") {\n",
    "                basket(index) = item\n",
    "                index += 1\n",
    "            }\n",
    "        }\n",
    "    } \n",
    "    catch {\n",
    "        case a: IndexOutOfBoundsException => println(\"Basket is full\")\n",
    "    } \n",
    "    finally {\n",
    "        println(\"\\nHere are the items in your basket:\")\n",
    "        print(basket.mkString(\", \"))\n",
    "    }\n",
    "}\n",
    "\n",
    "shoppingBasket()"
   ]
  },
  {
   "cell_type": "code",
   "execution_count": 59,
   "metadata": {
    "scrolled": true
   },
   "outputs": [
    {
     "name": "stdout",
     "output_type": "stream",
     "text": [
      "123\n",
      "Cannot convert the entered String to an Int\n"
     ]
    },
    {
     "data": {
      "text/plain": [
       "defined \u001b[32mfunction\u001b[39m \u001b[36mstringToInt\u001b[39m\n",
       "\u001b[36mres58_1\u001b[39m: \u001b[32mInt\u001b[39m = \u001b[32m123\u001b[39m\n",
       "\u001b[36mres58_2\u001b[39m: \u001b[32mInt\u001b[39m = \u001b[32m0\u001b[39m"
      ]
     },
     "execution_count": 59,
     "metadata": {},
     "output_type": "execute_result"
    }
   ],
   "source": [
    "// Problem 2\n",
    "\n",
    "def stringToInt(x: String): Int = {\n",
    "    var y = 0\n",
    "    try {\n",
    "        y = x.toInt\n",
    "        println(y)\n",
    "    }\n",
    "    catch {\n",
    "        case a: Exception => println(\"Cannot convert the entered String to an Int\")\n",
    "    }\n",
    "    return y\n",
    "}\n",
    "\n",
    "stringToInt(\"123\")\n",
    "stringToInt(\"hello\")"
   ]
  },
  {
   "cell_type": "code",
   "execution_count": 19,
   "metadata": {},
   "outputs": [
    {
     "name": "stdout",
     "output_type": "stream",
     "text": [
      "Enter an integer between 1 and 26: 6\n",
      "ABCDEF\n",
      "ABCDE\n",
      "ABCD\n",
      "ABC\n",
      "AB\n",
      "A\n",
      "AB\n",
      "ABC\n",
      "ABCD\n",
      "ABCDE\n",
      "ABCDEF\n"
     ]
    },
    {
     "data": {
      "text/plain": [
       "\u001b[32mimport \u001b[39m\u001b[36mscala.io.StdIn\n",
       "\n",
       "\u001b[39m\n",
       "defined \u001b[32mfunction\u001b[39m \u001b[36mrecursiveAlphabet\u001b[39m\n",
       "defined \u001b[32mfunction\u001b[39m \u001b[36mcalculateSequence\u001b[39m\n",
       "\u001b[36mres18_3\u001b[39m: \u001b[32mString\u001b[39m = \u001b[32m\"ABCDEF\"\u001b[39m"
      ]
     },
     "execution_count": 19,
     "metadata": {},
     "output_type": "execute_result"
    }
   ],
   "source": [
    "// Problem 3\n",
    "\n",
    "import scala.io.StdIn\n",
    "\n",
    "def recursiveAlphabet(start: Int, end: Int, downwards: Boolean, seq: String): String = {\n",
    "    var num = start; var sequence = seq\n",
    "    println(sequence)\n",
    "    if (num != 1 && downwards == true) {\n",
    "        sequence = sequence.dropRight(1)\n",
    "        return recursiveAlphabet(num-1, end, true, sequence)\n",
    "    }\n",
    "    else if (num >= 1 && num < end) {\n",
    "        sequence = sequence + (num+65).toChar \n",
    "        return (recursiveAlphabet(num+1, end, false, sequence))\n",
    "    }\n",
    "    else {\n",
    "        return sequence\n",
    "    }\n",
    "}\n",
    "\n",
    "def calculateSequence() = {\n",
    "    var letters = \"\"\n",
    "    var n = readLine(\"Enter an integer between 1 and 26: \").toInt\n",
    "    if (n >=1 && n <= 26) {\n",
    "        for (i <- 1 to n) letters = letters + (i+64).toChar\n",
    "        recursiveAlphabet(n, n, true, letters)\n",
    "    }\n",
    "    else {\n",
    "        throw new Exception(\"The number you entered is not between 1 and 26\")\n",
    "    }\n",
    "}\n",
    "\n",
    "calculateSequence()"
   ]
  },
  {
   "cell_type": "code",
   "execution_count": 55,
   "metadata": {},
   "outputs": [
    {
     "data": {
      "text/html": [
       "<div class=\"jp-RenderedText\">\n",
       "<pre><code><span style=\"color: rgb(0, 187, 187)\"><span class=\"ansi-cyan-fg\">letters</span></span>: <span style=\"color: rgb(0, 187, 0)\"><span class=\"ansi-green-fg\">List</span></span>[<span style=\"color: rgb(0, 187, 0)\"><span class=\"ansi-green-fg\">Char</span></span>] = <span style=\"color: yellow\"><span class=\"ansi-yellow-fg\">List</span></span>(\n",
       "  <span style=\"color: rgb(0, 187, 0)\"><span class=\"ansi-green-fg\">'a'</span></span>,\n",
       "  <span style=\"color: rgb(0, 187, 0)\"><span class=\"ansi-green-fg\">'b'</span></span>,\n",
       "  <span style=\"color: rgb(0, 187, 0)\"><span class=\"ansi-green-fg\">'c'</span></span>,\n",
       "  <span style=\"color: rgb(0, 187, 0)\"><span class=\"ansi-green-fg\">'d'</span></span>,\n",
       "  <span style=\"color: rgb(0, 187, 0)\"><span class=\"ansi-green-fg\">'e'</span></span>,\n",
       "  <span style=\"color: rgb(0, 187, 0)\"><span class=\"ansi-green-fg\">'f'</span></span>,\n",
       "  <span style=\"color: rgb(0, 187, 0)\"><span class=\"ansi-green-fg\">'g'</span></span>,\n",
       "  <span style=\"color: rgb(0, 187, 0)\"><span class=\"ansi-green-fg\">'h'</span></span>,\n",
       "  <span style=\"color: rgb(0, 187, 0)\"><span class=\"ansi-green-fg\">'i'</span></span>,\n",
       "  <span style=\"color: rgb(0, 187, 0)\"><span class=\"ansi-green-fg\">'j'</span></span>,\n",
       "  <span style=\"color: rgb(0, 187, 0)\"><span class=\"ansi-green-fg\">'k'</span></span>,\n",
       "  <span style=\"color: rgb(0, 187, 0)\"><span class=\"ansi-green-fg\">'l'</span></span>,\n",
       "  <span style=\"color: rgb(0, 187, 0)\"><span class=\"ansi-green-fg\">'m'</span></span>,\n",
       "  <span style=\"color: rgb(0, 187, 0)\"><span class=\"ansi-green-fg\">'n'</span></span>,\n",
       "  <span style=\"color: rgb(0, 187, 0)\"><span class=\"ansi-green-fg\">'o'</span></span>,\n",
       "  <span style=\"color: rgb(0, 187, 0)\"><span class=\"ansi-green-fg\">'p'</span></span>,\n",
       "  <span style=\"color: rgb(0, 187, 0)\"><span class=\"ansi-green-fg\">'q'</span></span>,\n",
       "  <span style=\"color: rgb(0, 187, 0)\"><span class=\"ansi-green-fg\">'r'</span></span>,\n",
       "  <span style=\"color: rgb(0, 187, 0)\"><span class=\"ansi-green-fg\">'s'</span></span>,\n",
       "  <span style=\"color: rgb(0, 187, 0)\"><span class=\"ansi-green-fg\">'t'</span></span>,\n",
       "  <span style=\"color: rgb(0, 187, 0)\"><span class=\"ansi-green-fg\">'u'</span></span>,\n",
       "  <span style=\"color: rgb(0, 187, 0)\"><span class=\"ansi-green-fg\">'v'</span></span>,\n",
       "  <span style=\"color: rgb(0, 187, 0)\"><span class=\"ansi-green-fg\">'w'</span></span>,\n",
       "  <span style=\"color: rgb(0, 187, 0)\"><span class=\"ansi-green-fg\">'x'</span></span>,\n",
       "  <span style=\"color: rgb(0, 187, 0)\"><span class=\"ansi-green-fg\">'y'</span></span>,\n",
       "  <span style=\"color: rgb(0, 187, 0)\"><span class=\"ansi-green-fg\">'z'</span></span>\n",
       ")</code></pre>\n",
       "</div>"
      ],
      "text/plain": [
       "\u001b[36mletters\u001b[39m: \u001b[32mList\u001b[39m[\u001b[32mChar\u001b[39m] = \u001b[33mList\u001b[39m(\n",
       "  \u001b[32m'a'\u001b[39m,\n",
       "  \u001b[32m'b'\u001b[39m,\n",
       "  \u001b[32m'c'\u001b[39m,\n",
       "  \u001b[32m'd'\u001b[39m,\n",
       "  \u001b[32m'e'\u001b[39m,\n",
       "  \u001b[32m'f'\u001b[39m,\n",
       "  \u001b[32m'g'\u001b[39m,\n",
       "  \u001b[32m'h'\u001b[39m,\n",
       "  \u001b[32m'i'\u001b[39m,\n",
       "  \u001b[32m'j'\u001b[39m,\n",
       "  \u001b[32m'k'\u001b[39m,\n",
       "  \u001b[32m'l'\u001b[39m,\n",
       "  \u001b[32m'm'\u001b[39m,\n",
       "  \u001b[32m'n'\u001b[39m,\n",
       "  \u001b[32m'o'\u001b[39m,\n",
       "  \u001b[32m'p'\u001b[39m,\n",
       "  \u001b[32m'q'\u001b[39m,\n",
       "  \u001b[32m'r'\u001b[39m,\n",
       "  \u001b[32m's'\u001b[39m,\n",
       "  \u001b[32m't'\u001b[39m,\n",
       "  \u001b[32m'u'\u001b[39m,\n",
       "  \u001b[32m'v'\u001b[39m,\n",
       "  \u001b[32m'w'\u001b[39m,\n",
       "  \u001b[32m'x'\u001b[39m,\n",
       "  \u001b[32m'y'\u001b[39m,\n",
       "  \u001b[32m'z'\u001b[39m\n",
       ")"
      ]
     },
     "metadata": {},
     "output_type": "display_data"
    }
   ],
   "source": [
    "// Problem 4\n",
    "\n",
    "var letters = List[Char]()\n",
    "for (i <- 97 to 122) {\n",
    "    letters = letters :+ i.toChar\n",
    "}"
   ]
  },
  {
   "cell_type": "code",
   "execution_count": 56,
   "metadata": {},
   "outputs": [
    {
     "name": "stdout",
     "output_type": "stream",
     "text": [
      "Average excluding min and max is: 65\n"
     ]
    },
    {
     "data": {
      "text/plain": [
       "\u001b[36mlist\u001b[39m: \u001b[32mList\u001b[39m[\u001b[32mInt\u001b[39m] = \u001b[33mList\u001b[39m(\u001b[32m70\u001b[39m, \u001b[32m80\u001b[39m, \u001b[32m50\u001b[39m, \u001b[32m30\u001b[39m, \u001b[32m90\u001b[39m, \u001b[32m40\u001b[39m, \u001b[32m100\u001b[39m, \u001b[32m60\u001b[39m)\n",
       "defined \u001b[32mfunction\u001b[39m \u001b[36mmodifiedAvg\u001b[39m"
      ]
     },
     "execution_count": 56,
     "metadata": {},
     "output_type": "execute_result"
    }
   ],
   "source": [
    "// Problem 5\n",
    "\n",
    "val list = List(70, 80, 50, 30, 90, 40, 100, 60)\n",
    "\n",
    "def modifiedAvg(list: List[Int]): Int = {\n",
    "    var newList = List[Int]()\n",
    "    newList = list.filter(_ > list.min)\n",
    "    newList = newList.filter(_ < list.max)\n",
    "    return (newList.sum / newList.size)\n",
    "}\n",
    "\n",
    "println(\"Average excluding min and max is: \" + modifiedAvg(list))"
   ]
  },
  {
   "cell_type": "code",
   "execution_count": 66,
   "metadata": {},
   "outputs": [
    {
     "name": "stdout",
     "output_type": "stream",
     "text": [
      "Input 1: 5 4\n",
      "Input 2: 1 2 3 4 5\n",
      "5 1 2 3 4\n"
     ]
    },
    {
     "data": {
      "text/plain": [
       "\u001b[32mimport \u001b[39m\u001b[36mscala.io.StdIn\n",
       "\n",
       "\u001b[39m\n",
       "defined \u001b[32mfunction\u001b[39m \u001b[36mleftRotation\u001b[39m"
      ]
     },
     "execution_count": 66,
     "metadata": {},
     "output_type": "execute_result"
    }
   ],
   "source": [
    "// Problem 6\n",
    "\n",
    "import scala.io.StdIn\n",
    "\n",
    "def leftRotation() = {\n",
    "    var num = \"\"\n",
    "    val Array(a, b) = readLine(\"Input 1: \").split(\" \") \n",
    "    val n = a.toInt; val d = b.toInt\n",
    "    var numbers = new Array[String](n)\n",
    "\n",
    "    if (n < 1 || n > 100000 || d < 1 || d > n ) {\n",
    "        throw new Exception(\"n and d values are not valid\")\n",
    "    }\n",
    "    \n",
    "    numbers = readLine(\"Input 2: \").split(\" \")\n",
    "   \n",
    "    for (i <- 1 to d) {\n",
    "        num = numbers(0)\n",
    "        numbers = numbers.drop(1)\n",
    "        numbers = numbers :+ num\n",
    "    }\n",
    "    println(numbers.mkString(\" \"))\n",
    "}\n",
    "\n",
    "leftRotation()"
   ]
  },
  {
   "cell_type": "code",
   "execution_count": 4,
   "metadata": {},
   "outputs": [
    {
     "name": "stdout",
     "output_type": "stream",
     "text": [
      "There are 4 occurrences of 'a' in the substring: abcacabcac\n"
     ]
    },
    {
     "data": {
      "text/plain": [
       "defined \u001b[32mfunction\u001b[39m \u001b[36mrepeatedString\u001b[39m"
      ]
     },
     "execution_count": 4,
     "metadata": {},
     "output_type": "execute_result"
    }
   ],
   "source": [
    "// Problem 7\n",
    "\n",
    "def repeatedString(s: String, n: Int) {\n",
    "    var repeatsOfA = 0\n",
    "    val multiple = (n / s.length)\n",
    "    val additionalChars = n % s.length\n",
    "    var newString = new StringBuilder(s)\n",
    "    if(multiple >= 2) {\n",
    "        for (i <- 1 to multiple-1) {\n",
    "            newString.append(s)\n",
    "        }\n",
    "    }\n",
    "        newString.append(s.substring(0, additionalChars)) \n",
    "    for (i <- 0 to newString.length-1) {\n",
    "        if(newString(i) == 'a') repeatsOfA += 1\n",
    "    }\n",
    "    println(s\"There are $repeatsOfA occurrences of 'a' in the substring: $newString\")\n",
    "}\n",
    "\n",
    "repeatedString(\"abcac\", 10)"
   ]
  }
 ],
 "metadata": {
  "kernelspec": {
   "display_name": "Scala",
   "language": "scala",
   "name": "scala"
  },
  "language_info": {
   "codemirror_mode": "text/x-scala",
   "file_extension": ".scala",
   "mimetype": "text/x-scala",
   "name": "scala",
   "nbconvert_exporter": "script",
   "version": "2.12.9"
  }
 },
 "nbformat": 4,
 "nbformat_minor": 2
}
