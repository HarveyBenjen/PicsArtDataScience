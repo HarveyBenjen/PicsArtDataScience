{
 "cells": [
  {
   "cell_type": "code",
   "execution_count": 2,
   "metadata": {},
   "outputs": [
    {
     "name": "stdout",
     "output_type": "stream",
     "text": [
      "- - - - - - - - - - \n",
      "- - - - - - - - - - \n",
      "- - - - - - - - - - \n",
      "- - - - - - - - - - \n",
      "- - - - - - - - - - \n",
      "- - - - - - - - - - \n",
      "- - - - - - - - - - \n",
      "- - - - - - - - - - \n",
      "- - - - - - - - - - \n",
      "- - - - - - - - - - \n"
     ]
    },
    {
     "data": {
      "text/plain": [
       "defined \u001b[32mfunction\u001b[39m \u001b[36mprintLines\u001b[39m"
      ]
     },
     "execution_count": 2,
     "metadata": {},
     "output_type": "execute_result"
    }
   ],
   "source": [
    "// Quiz 1 results\n",
    "// Task 1\n",
    "\n",
    "def printLines() {\n",
    "    for (i <- 1 to 10) {\n",
    "        for (j <- 1 to 10) {\n",
    "            print(\"- \")\n",
    "        }\n",
    "        println\n",
    "    }\n",
    "}\n",
    "\n",
    "printLines()"
   ]
  },
  {
   "cell_type": "code",
   "execution_count": 27,
   "metadata": {},
   "outputs": [
    {
     "data": {
      "text/plain": [
       "defined \u001b[32mfunction\u001b[39m \u001b[36mreverseArr\u001b[39m\n",
       "\u001b[36mres26_1\u001b[39m: \u001b[32mArray\u001b[39m[\u001b[32mInt\u001b[39m] = \u001b[33mArray\u001b[39m(\u001b[32m1\u001b[39m, \u001b[32m2\u001b[39m, \u001b[32m3\u001b[39m, \u001b[32m4\u001b[39m, \u001b[32m5\u001b[39m)"
      ]
     },
     "execution_count": 27,
     "metadata": {},
     "output_type": "execute_result"
    }
   ],
   "source": [
    "// Task 2\n",
    "def reverseArr (arr: Array[Int]): Array[Int] = {\n",
    "    var newArray = new Array[Int](arr.length); var j = 0\n",
    "    for (i <- arr.length-1 to 0 by -1) {\n",
    "        newArray(j) = arr(i)\n",
    "        j += 1 \n",
    "    }\n",
    "    return newArray\n",
    "}\n",
    "\n",
    "reverseArr(Array(5,4,3,2,1))"
   ]
  },
  {
   "cell_type": "code",
   "execution_count": 3,
   "metadata": {},
   "outputs": [
    {
     "data": {
      "text/plain": [
       "defined \u001b[32mfunction\u001b[39m \u001b[36mswap\u001b[39m\n",
       "defined \u001b[32mfunction\u001b[39m \u001b[36mselectionSort\u001b[39m\n",
       "defined \u001b[32mfunction\u001b[39m \u001b[36mconsecutiveLength\u001b[39m\n",
       "\u001b[36mres2_3\u001b[39m: \u001b[32mInt\u001b[39m = \u001b[32m5\u001b[39m"
      ]
     },
     "execution_count": 3,
     "metadata": {},
     "output_type": "execute_result"
    }
   ],
   "source": [
    "// Task 3\n",
    "def swap(a: Array[Int], i1: Int, i2: Int) = { \n",
    "    val tmp = a(i1) \n",
    "    a(i1) = a(i2)\n",
    "    a(i2) = tmp \n",
    "}\n",
    "\n",
    "def selectionSort(arr: Array[Int]):Array[Int] = {\n",
    "    var min = 0; var j = 0\n",
    "    for (i <- 0 to arr.length-2) {\n",
    "        min = i\n",
    "        j = i+1\n",
    "        while (j < arr.length) {\n",
    "            if (arr(j) < arr(min)) min = j\n",
    "            j+=1\n",
    "        }\n",
    "        swap(arr,i, min)\n",
    "    }\n",
    "    return arr\n",
    "}\n",
    "\n",
    "def consecutiveLength(arr: Array[Int]): Int = {\n",
    "    var newArray = selectionSort(arr)\n",
    "    var count = 0\n",
    "    for(i <- 0 to newArray.length-2) {\n",
    "        if (newArray(i+1) == newArray(i) + 1) count += 1\n",
    "    }\n",
    "    return (count + 1)\n",
    "}\n",
    "\n",
    "consecutiveLength(Array(1,2,3,4,5))"
   ]
  },
  {
   "cell_type": "code",
   "execution_count": 5,
   "metadata": {},
   "outputs": [
    {
     "name": "stdout",
     "output_type": "stream",
     "text": [
      "min is: 1\n",
      "max is: 5\n"
     ]
    },
    {
     "data": {
      "text/plain": [
       "defined \u001b[32mfunction\u001b[39m \u001b[36mfindMin\u001b[39m\n",
       "defined \u001b[32mfunction\u001b[39m \u001b[36mfindMax\u001b[39m"
      ]
     },
     "execution_count": 5,
     "metadata": {},
     "output_type": "execute_result"
    }
   ],
   "source": [
    "// Task 4\n",
    "\n",
    "def findMin(list: List[Int]) {\n",
    "    var min = list(0)\n",
    "    for (i <- 0 to list.length-2) {\n",
    "        if (list(i+1) < min) min = list(i+1)\n",
    "    }\n",
    "    println(\"min is: \" + min)\n",
    "}\n",
    "\n",
    "def findMax(list: List[Int]) {\n",
    "    var max = list(0)\n",
    "    for (i <- 0 to list.length-2) {\n",
    "        if (list(i+1) > max) max = list(i+1)\n",
    "    }\n",
    "    println(\"max is: \" + max) \n",
    "}\n",
    "\n",
    "findMin(List(1,2,3,4,5))\n",
    "findMax(List(1,2,3,4,5))"
   ]
  },
  {
   "cell_type": "code",
   "execution_count": 8,
   "metadata": {},
   "outputs": [
    {
     "name": "stdout",
     "output_type": "stream",
     "text": [
      "2, 4, 6, 8, 10, 1, 3, 5, 7, 9\n"
     ]
    },
    {
     "data": {
      "text/plain": [
       "defined \u001b[32mfunction\u001b[39m \u001b[36mseparateEvenOdd\u001b[39m"
      ]
     },
     "execution_count": 8,
     "metadata": {},
     "output_type": "execute_result"
    }
   ],
   "source": [
    "// Task 5\n",
    "\n",
    "def separateEvenOdd(arr: Array[Int]) {\n",
    "    var evens = List[Int](); var odds = List[Int]()\n",
    "    for (i <- 0 to arr.length-1) {\n",
    "        if (arr(i) % 2 == 0) evens = evens :+ arr(i)\n",
    "        else odds = odds :+ arr(i)\n",
    "    }\n",
    "    println(evens.mkString(\", \") + \", \" + odds.mkString(\", \"))\n",
    "}\n",
    "\n",
    "separateEvenOdd(Array(1,2,3,4,5,6,7,8,9,10))"
   ]
  },
  {
   "cell_type": "code",
   "execution_count": 14,
   "metadata": {},
   "outputs": [
    {
     "name": "stdout",
     "output_type": "stream",
     "text": [
      "3"
     ]
    },
    {
     "data": {
      "text/plain": [
       "defined \u001b[32mfunction\u001b[39m \u001b[36misArmstrong\u001b[39m\n",
       "\u001b[36mres13_1\u001b[39m: \u001b[32mBoolean\u001b[39m = true"
      ]
     },
     "execution_count": 14,
     "metadata": {},
     "output_type": "execute_result"
    }
   ],
   "source": [
    "// Task 6\n",
    "def isArmstrong(n: Int): Boolean = {\n",
    "    val s = n.toString\n",
    "    val hunds = s.slice(0,1).toInt\n",
    "    val tens = s.slice(1,2).toInt\n",
    "    val units = s.slice(2,3).toInt\n",
    "    if (math.pow(hunds,3)+ math.pow(tens,3)+ math.pow(units,3) == n) return true\n",
    "    else return false\n",
    "}\n",
    "\n",
    "isArmstrong(371)"
   ]
  },
  {
   "cell_type": "code",
   "execution_count": 16,
   "metadata": {},
   "outputs": [
    {
     "name": "stdout",
     "output_type": "stream",
     "text": [
      "Average is: 2\n"
     ]
    },
    {
     "data": {
      "text/plain": [
       "defined \u001b[32mfunction\u001b[39m \u001b[36mavg\u001b[39m"
      ]
     },
     "execution_count": 16,
     "metadata": {},
     "output_type": "execute_result"
    }
   ],
   "source": [
    "// Task 7\n",
    "def avg(arr: Array[Int]) {\n",
    "    var sum = 0\n",
    "    for (i<- 0 to arr.length-1) sum += arr(i)\n",
    "    println(\"Average is: \" + sum / arr.length)\n",
    "}\n",
    " avg(Array(1,2,3))"
   ]
  },
  {
   "cell_type": "code",
   "execution_count": 7,
   "metadata": {},
   "outputs": [
    {
     "data": {
      "text/plain": [
       "defined \u001b[32mfunction\u001b[39m \u001b[36misSorted\u001b[39m\n",
       "\u001b[36mres6_1\u001b[39m: \u001b[32mBoolean\u001b[39m = false"
      ]
     },
     "execution_count": 7,
     "metadata": {},
     "output_type": "execute_result"
    }
   ],
   "source": [
    "// Task 8\n",
    "\n",
    "def isSorted(arr: Array[Int]): Boolean = {\n",
    "    var j = 0\n",
    "    for (i <- 1 to arr.length-1) {\n",
    "        j = i\n",
    "        while (j>0) {\n",
    "            if (arr(j) < arr(j-1)) return false\n",
    "            else j-= 1\n",
    "        }\n",
    "    }\n",
    "    return true\n",
    "}\n",
    "\n",
    "isSorted(Array(5,1,3,4,6,8))"
   ]
  }
 ],
 "metadata": {
  "kernelspec": {
   "display_name": "Scala",
   "language": "scala",
   "name": "scala"
  },
  "language_info": {
   "codemirror_mode": "text/x-scala",
   "file_extension": ".scala",
   "mimetype": "text/x-scala",
   "name": "scala",
   "nbconvert_exporter": "script",
   "version": "2.12.9"
  }
 },
 "nbformat": 4,
 "nbformat_minor": 4
}
