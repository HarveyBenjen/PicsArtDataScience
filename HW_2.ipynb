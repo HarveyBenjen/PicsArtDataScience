{
 "cells": [
  {
   "cell_type": "code",
   "execution_count": 14,
   "metadata": {},
   "outputs": [
    {
     "name": "stdout",
     "output_type": "stream",
     "text": [
      "120\n"
     ]
    },
    {
     "data": {
      "text/plain": [
       "defined \u001b[32mfunction\u001b[39m \u001b[36mfact\u001b[39m\n",
       "\u001b[36mres13_1\u001b[39m: \u001b[32mInt\u001b[39m = \u001b[32m120\u001b[39m"
      ]
     },
     "execution_count": 14,
     "metadata": {},
     "output_type": "execute_result"
    }
   ],
   "source": [
    "/*\n",
    "    Homework #2\n",
    "    Harvey Bejanyan\n",
    "*/\n",
    "\n",
    "// Problem 1\n",
    "// Create function that calculates factorial without using recursion\n",
    "\n",
    "def fact(n: Int): Int = {\n",
    "    var num = n; var fact = n\n",
    "    if (n == 0) fact = 1\n",
    "    else {\n",
    "        for (i <- 1 to n-1) {\n",
    "            num -= 1\n",
    "            fact *= num\n",
    "        } \n",
    "    }\n",
    "    println(fact)\n",
    "    return fact\n",
    "}\n",
    "\n",
    "fact(5)"
   ]
  },
  {
   "cell_type": "code",
   "execution_count": 9,
   "metadata": {},
   "outputs": [
    {
     "data": {
      "text/plain": [
       "defined \u001b[32mfunction\u001b[39m \u001b[36mrecursiveSum\u001b[39m\n",
       "\u001b[36mres8_1\u001b[39m: \u001b[32mInt\u001b[39m = \u001b[32m21\u001b[39m"
      ]
     },
     "execution_count": 9,
     "metadata": {},
     "output_type": "execute_result"
    }
   ],
   "source": [
    "// Problem 2\n",
    "// Calculate sum of n numbers using recursion\n",
    "\n",
    "def recursiveSum(n: Int): Int = {\n",
    "    if (n == 0) return 0\n",
    "    else return n + recursiveSum(n-1)\n",
    "}\n",
    "\n",
    "recursiveSum(6)"
   ]
  },
  {
   "cell_type": "code",
   "execution_count": 7,
   "metadata": {},
   "outputs": [
    {
     "data": {
      "text/plain": [
       "\u001b[32mimport \u001b[39m\u001b[36mscala.collection.immutable.Map\n",
       "\u001b[39m\n",
       "defined \u001b[32mfunction\u001b[39m \u001b[36mnumFrequency\u001b[39m\n",
       "\u001b[36mres6_2\u001b[39m: \u001b[32mMap\u001b[39m[\u001b[32mInt\u001b[39m, \u001b[32mInt\u001b[39m] = \u001b[33mMap\u001b[39m(\u001b[32m5\u001b[39m -> \u001b[32m4\u001b[39m, \u001b[32m1\u001b[39m -> \u001b[32m3\u001b[39m, \u001b[32m2\u001b[39m -> \u001b[32m2\u001b[39m, \u001b[32m3\u001b[39m -> \u001b[32m1\u001b[39m, \u001b[32m4\u001b[39m -> \u001b[32m1\u001b[39m)"
      ]
     },
     "execution_count": 7,
     "metadata": {},
     "output_type": "execute_result"
    }
   ],
   "source": [
    "// Problem 3\n",
    "// Suppose you have an array with integers. \n",
    "// Create function/method that will create another data type containing number with it frequencies\n",
    "import scala.collection.immutable.Map\n",
    "def numFrequency(arr: Array[Int]): Map[Int, Int] = {\n",
    "    var freqMap: Map[Int,Int] = Map()\n",
    "    var distinct: Array[Int] = arr.distinct\n",
    "    var freqCount = 0\n",
    "    for(i <- 0 to distinct.length-1) {\n",
    "        for (j <- 0 to arr.length-1) if (distinct(i) == arr(j)) freqCount += 1\n",
    "        freqMap += (distinct(i) -> freqCount)\n",
    "        freqCount = 0\n",
    "    }\n",
    "    return freqMap\n",
    "}\n",
    "\n",
    "numFrequency(Array(1,1,1,2,2,3,4,5,5,5,5))"
   ]
  },
  {
   "cell_type": "code",
   "execution_count": null,
   "metadata": {},
   "outputs": [],
   "source": [
    "// Problem 4\n",
    "// Create function that will find out how many cases are in array where sum of numbers is 12\n"
   ]
  },
  {
   "cell_type": "code",
   "execution_count": null,
   "metadata": {},
   "outputs": [],
   "source": [
    "// Problem 5\n",
    "// Sort array in ascending order using different sorting methods (choose 2 different algos)\n",
    "\n",
    "\n"
   ]
  },
  {
   "cell_type": "code",
   "execution_count": 9,
   "metadata": {},
   "outputs": [
    {
     "name": "stdout",
     "output_type": "stream",
     "text": [
      "Indexes are: 1, 2\n"
     ]
    },
    {
     "data": {
      "text/plain": [
       "defined \u001b[32mfunction\u001b[39m \u001b[36mevenLength\u001b[39m\n",
       "\u001b[36mres8_1\u001b[39m: \u001b[32mList\u001b[39m[\u001b[32mInt\u001b[39m] = \u001b[33mList\u001b[39m(\u001b[32m1\u001b[39m, \u001b[32m2\u001b[39m)"
      ]
     },
     "execution_count": 9,
     "metadata": {},
     "output_type": "execute_result"
    }
   ],
   "source": [
    "// Problem 6\n",
    "// Create a function that will calculate the length of strings in an array and\n",
    "// will output indexes of strings having even length\n",
    "\n",
    "def evenLength(arr: Array[String]): List[Int] = {\n",
    "    var indexes = List[Int]()\n",
    "    for (i <- 0 to arr.length-1) if (arr(i).length % 2 == 0) indexes = indexes :+ i\n",
    "    println(\"Indexes are: \" + indexes.mkString(\", \"))\n",
    "    return indexes\n",
    "}\n",
    "\n",
    "evenLength(Array(\"hello\", \"play\", \"from\", \"bye\"))"
   ]
  },
  {
   "cell_type": "code",
   "execution_count": 26,
   "metadata": {},
   "outputs": [
    {
     "name": "stdout",
     "output_type": "stream",
     "text": [
      " 1 2 3\n"
     ]
    },
    {
     "data": {
      "text/plain": [
       "defined \u001b[32mfunction\u001b[39m \u001b[36mfirstThree\u001b[39m\n",
       "\u001b[36mres25_1\u001b[39m: \u001b[32mString\u001b[39m = \u001b[32m\" 1 2 3\"\u001b[39m"
      ]
     },
     "execution_count": 26,
     "metadata": {},
     "output_type": "execute_result"
    }
   ],
   "source": [
    "// Problem 7\n",
    "// Create function that will return the first 3 items in a list\n",
    "\n",
    "def firstThree(list: List[Int]): String = {\n",
    "    var s = \"\"\n",
    "    for (i <- 0 to 2) if (list(i) != null) s = s + \" \" + list(i).toString\n",
    "    println(s)\n",
    "    return s\n",
    "}\n",
    "\n",
    "firstThree(List(1, 2, 3, 4, 5, 6, 7))"
   ]
  },
  {
   "cell_type": "code",
   "execution_count": null,
   "metadata": {},
   "outputs": [],
   "source": [
    "// Problem 8\n",
    "// Describe when it is more convenient to use array vs list vs set.\n",
    "\n"
   ]
  },
  {
   "cell_type": "code",
   "execution_count": 30,
   "metadata": {},
   "outputs": [
    {
     "data": {
      "text/html": [
       "<div class=\"jp-RenderedText\">\n",
       "<pre><code><span style=\"color: rgb(0, 187, 187)\"><span class=\"ansi-cyan-fg\">arr</span></span>: <span style=\"color: rgb(0, 187, 0)\"><span class=\"ansi-green-fg\">Array</span></span>[<span style=\"color: rgb(0, 187, 0)\"><span class=\"ansi-green-fg\">Int</span></span>] = <span style=\"color: yellow\"><span class=\"ansi-yellow-fg\">Array</span></span>(<span style=\"color: rgb(0, 187, 0)\"><span class=\"ansi-green-fg\">1</span></span>, <span style=\"color: rgb(0, 187, 0)\"><span class=\"ansi-green-fg\">2</span></span>, <span style=\"color: rgb(0, 187, 0)\"><span class=\"ansi-green-fg\">3</span></span>, <span style=\"color: rgb(0, 187, 0)\"><span class=\"ansi-green-fg\">4</span></span>, <span style=\"color: rgb(0, 187, 0)\"><span class=\"ansi-green-fg\">5</span></span>, <span style=\"color: rgb(0, 187, 0)\"><span class=\"ansi-green-fg\">6</span></span>, <span style=\"color: rgb(0, 187, 0)\"><span class=\"ansi-green-fg\">7</span></span>, <span style=\"color: rgb(0, 187, 0)\"><span class=\"ansi-green-fg\">8</span></span>, <span style=\"color: rgb(0, 187, 0)\"><span class=\"ansi-green-fg\">9</span></span>, <span style=\"color: rgb(0, 187, 0)\"><span class=\"ansi-green-fg\">10</span></span>)\n",
       "<span style=\"color: rgb(0, 187, 187)\"><span class=\"ansi-cyan-fg\">newArr</span></span>: <span style=\"color: rgb(0, 187, 0)\"><span class=\"ansi-green-fg\">Array</span></span>[<span style=\"color: rgb(0, 187, 0)\"><span class=\"ansi-green-fg\">Int</span></span>] = <span style=\"color: yellow\"><span class=\"ansi-yellow-fg\">Array</span></span>(<span style=\"color: rgb(0, 187, 0)\"><span class=\"ansi-green-fg\">5</span></span>, <span style=\"color: rgb(0, 187, 0)\"><span class=\"ansi-green-fg\">6</span></span>)</code></pre>\n",
       "</div>"
      ],
      "text/plain": [
       "\u001b[36marr\u001b[39m: \u001b[32mArray\u001b[39m[\u001b[32mInt\u001b[39m] = \u001b[33mArray\u001b[39m(\u001b[32m1\u001b[39m, \u001b[32m2\u001b[39m, \u001b[32m3\u001b[39m, \u001b[32m4\u001b[39m, \u001b[32m5\u001b[39m, \u001b[32m6\u001b[39m, \u001b[32m7\u001b[39m, \u001b[32m8\u001b[39m, \u001b[32m9\u001b[39m, \u001b[32m10\u001b[39m)\n",
       "\u001b[36mnewArr\u001b[39m: \u001b[32mArray\u001b[39m[\u001b[32mInt\u001b[39m] = \u001b[33mArray\u001b[39m(\u001b[32m5\u001b[39m, \u001b[32m6\u001b[39m)"
      ]
     },
     "metadata": {},
     "output_type": "display_data"
    }
   ],
   "source": [
    "// Problem 9\n",
    "// Filter elements in an array of integers where >4 and <7.\n",
    "\n",
    "var arr = Array(1,2,3,4,5,6,7,8,9,10)\n",
    "var newArr = arr.filter(x => (x > 4 && x < 7))"
   ]
  },
  {
   "cell_type": "code",
   "execution_count": 32,
   "metadata": {},
   "outputs": [
    {
     "data": {
      "text/plain": [
       "defined \u001b[32mfunction\u001b[39m \u001b[36mcheckPrime\u001b[39m"
      ]
     },
     "execution_count": 32,
     "metadata": {},
     "output_type": "execute_result"
    }
   ],
   "source": [
    "// Problem 10\n",
    "// Write a recursive function called isPrime that returns a Boolean and lets you know whether or not a number is prime\n",
    "def checkPrime(n: Int): Boolean = {\n",
    "    var isPrime = false\n",
    "     \n",
    "    println(isPrime)\n",
    "    return isPrime\n",
    "}"
   ]
  },
  {
   "cell_type": "code",
   "execution_count": 34,
   "metadata": {},
   "outputs": [
    {
     "data": {
      "text/plain": [
       "defined \u001b[32mfunction\u001b[39m \u001b[36mremoveDuplicates\u001b[39m\n",
       "\u001b[36mres33_1\u001b[39m: \u001b[32mArray\u001b[39m[\u001b[32mAny\u001b[39m] = \u001b[33mArray\u001b[39m(\u001b[32m1\u001b[39m, \u001b[32m2\u001b[39m, \u001b[32m3\u001b[39m, \u001b[32m4\u001b[39m, \u001b[32m5\u001b[39m)"
      ]
     },
     "execution_count": 34,
     "metadata": {},
     "output_type": "execute_result"
    }
   ],
   "source": [
    "// Problem 11\n",
    "// Write a program that deletes duplicate elements from the array.\n",
    "\n",
    "def removeDuplicates(arr: Array[Any]): Array[Any] = {\n",
    "    var newArray = arr.distinct\n",
    "    return newArray\n",
    "}\n",
    "\n",
    "removeDuplicates(Array(1,1,1,2,2,2,3,3,3,4,4,4,5,5,5))"
   ]
  },
  {
   "cell_type": "code",
   "execution_count": 36,
   "metadata": {},
   "outputs": [
    {
     "data": {
      "text/plain": [
       "defined \u001b[32mfunction\u001b[39m \u001b[36mfindCommonChars\u001b[39m\n",
       "\u001b[36mres35_1\u001b[39m: \u001b[32mInt\u001b[39m = \u001b[32m4\u001b[39m"
      ]
     },
     "execution_count": 36,
     "metadata": {},
     "output_type": "execute_result"
    }
   ],
   "source": [
    "// Problem 12\n",
    "// Given two strings, find the number of common characters between them\n",
    "\n",
    "def findCommonChars(first: String, second: String): Int = {\n",
    "    var commonChars = 0\n",
    "    for (i <- 0 to first.length-1) {\n",
    "        for (j <- 0 to second.length-1) {\n",
    "            if (first(i) == second(j)) commonChars += 1\n",
    "        }\n",
    "    }\n",
    "    return commonChars\n",
    "}\n",
    "\n",
    "findCommonChars(\"apple\", \"pear\") //Should be 3 but it counted 'p' twice"
   ]
  }
 ],
 "metadata": {
  "kernelspec": {
   "display_name": "Scala",
   "language": "scala",
   "name": "scala"
  },
  "language_info": {
   "codemirror_mode": "text/x-scala",
   "file_extension": ".scala",
   "mimetype": "text/x-scala",
   "name": "scala",
   "nbconvert_exporter": "script",
   "version": "2.12.9"
  }
 },
 "nbformat": 4,
 "nbformat_minor": 4
}
